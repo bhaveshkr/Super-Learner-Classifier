{
 "cells": [
  {
   "cell_type": "markdown",
   "metadata": {},
   "source": [
    "# COMP47590: Advanced Machine Learning\n",
    "# Assignment 1: The Super Learner\n",
    "# Name: Bhavesh Kumar\n",
    "# Student No. 16203173"
   ]
  },
  {
   "cell_type": "markdown",
   "metadata": {},
   "source": [
    "## Import required packages"
   ]
  },
  {
   "cell_type": "code",
   "execution_count": 2,
   "metadata": {
    "collapsed": true
   },
   "outputs": [],
   "source": [
    "import numpy as np\n",
    "import pandas as pd\n",
    "import seaborn as sn\n",
    "import matplotlib.pyplot as plt\n",
    "from IPython.display import display, HTML, Image\n",
    "from sklearn import metrics, model_selection\n",
    "from sklearn.svm import SVC\n",
    "from sklearn.base import BaseEstimator, ClassifierMixin\n",
    "from sklearn.tree import DecisionTreeClassifier\n",
    "from sklearn.ensemble import RandomForestClassifier, GradientBoostingClassifier, AdaBoostClassifier\n",
    "from sklearn.linear_model import LogisticRegression\n",
    "from sklearn.neighbors import NearestNeighbors\n",
    "from sklearn.naive_bayes import GaussianNB\n",
    "from sklearn.model_selection import KFold, train_test_split, cross_val_score, GridSearchCV\n",
    "from sklearn.preprocessing import Imputer\n",
    "\n",
    "%matplotlib inline\n",
    "#%qtconsole"
   ]
  },
  {
   "cell_type": "markdown",
   "metadata": {},
   "source": [
    "### Kohavi-Wolpert Variance Method (KW) "
   ]
  },
  {
   "cell_type": "code",
   "execution_count": 3,
   "metadata": {
    "collapsed": true
   },
   "outputs": [],
   "source": [
    "def calculate_kw_variance(pred_label, y_true):\n",
    "    ''' Kihavi-Wolpert variance is used to measure the variability of predicted class label for the complete dataset and\n",
    "    also it is one of the recommended way out of six non-pairwise measure to calculate diversity of the classifier in an \n",
    "    ensemble of classifiers [1]. \n",
    "    \n",
    "    Parameters\n",
    "    ----------\n",
    "    pred_label: predict values array of shape = [n_samples]\n",
    "    y_true: true values array of shape = [n_samples]\n",
    "    \n",
    "    Returs\n",
    "    ------\n",
    "    kw_score: return the consolidated score including all the classifiers for every samples.\n",
    "    '''\n",
    "    y_true_count = [0 for i in range(len(y_true))] \n",
    "    kw_score = 0\n",
    "    for i, value in enumerate(y_true):\n",
    "        for pred in pred_label:\n",
    "            if value == pred[i]:\n",
    "                y_true_count[i] += 1\n",
    "        kw_score += y_true_count[i]*(len(pred_label)-y_true_count[i])\n",
    "    return kw_score/float(len(y_true)*pow(len(pred_label),2))"
   ]
  },
  {
   "cell_type": "markdown",
   "metadata": {},
   "source": [
    "## Define Super Learner Classifier"
   ]
  },
  {
   "cell_type": "markdown",
   "metadata": {},
   "source": [
    "The *Super Learner* is a heterogeneous stacked ensemble classifier. This is a classification model that uses a set of base classifiers of different types, the outputs of which are then combined in another classifier at the stacked layer. The Super Learner was described in [(van der Laan et al, 2007)](https://pdfs.semanticscholar.org/19e9/c732082706f39d2ba12845851309714db135.pdf) but the stacked ensemble idea has been around for a long time. \n",
    "\n",
    "Figure 1 shows a flow diagram of the Super Learner process (this is from (van der Laan et al, 2007) and the process is also described in the COMP47590 lecture \"[COMP47590 2017-2018 L04 Supervised Learning Ensembles 3](https://www.dropbox.com/s/1ksx94nxtuyn4l8/COMP47590%202017-2018%20L04%20Supervised%20Learning%20Ensembles%203.pdf?raw=1)\"). The base classifiers are trained and their outputs are combined along with the training dataset labels into a training set for the stack layer classifier. To avoid overfitting the generation of the stacked layer training set uses a k-fold cross validation process (described as V-fold in Figure 1). To further add variety to the base estimators a bootstrapping selection (as is used in the bagging ensemble approach).\n",
    " \n",
    "![Super Learner Process Flow](SuperLearnerProcessFlow.png \"Logo Title Text 1\")\n",
    "Figure 1: A flow diagram for the Super Learner\n"
   ]
  },
  {
   "cell_type": "markdown",
   "metadata": {},
   "source": [
    "### Define the SuperLearnerClassifier Class"
   ]
  },
  {
   "cell_type": "code",
   "execution_count": 4,
   "metadata": {
    "collapsed": true
   },
   "outputs": [],
   "source": [
    "# Create a new classifier which is based on the sckit-learn BaseEstimator and ClassifierMixin classes\n",
    "class SuperLearnerClassifier(BaseEstimator, ClassifierMixin):\n",
    "    \n",
    "    \"\"\"An ensemble classifier that uses heterogeneous models at the base layer and a aggregatnio model at the aggregation layer.\n",
    "    A k-fold cross validation is used to gnerate training data for the stack layer model.\n",
    "\n",
    "    Parameters\n",
    "    ----------\n",
    "    BaseEstimator: It is the base class for all sklearn estimators.\n",
    "    ClassifierMixin: This is one the the default class which every sklearn estimators must implement and expose score\n",
    "    method to get mean accuracy\n",
    "        \n",
    "    Attributes\n",
    "    ----------\n",
    "\n",
    "    Notes\n",
    "    -----\n",
    "    \n",
    "    See also\n",
    "    --------\n",
    "    \n",
    "    ----------\n",
    "    .. [1]  van der Laan, M., Polley, E. & Hubbard, A. (2007). \n",
    "            Super Learner. Statistical Applications in Genetics \n",
    "            and Molecular Biology, 6(1) \n",
    "            doi:10.2202/1544-6115.1309\n",
    "    Examples\n",
    "    --------\n",
    "    >>> from sklearn.datasets import load_iris\n",
    "    >>> from sklearn.model_selection import cross_val_score\n",
    "    >>> clf = SuperLearnerClassifier()\n",
    "    >>> iris = load_iris()\n",
    "    >>> cross_val_score(clf, iris.data, iris.target, cv=10)\n",
    "\n",
    "    \"\"\"\n",
    "    # Constructor for the classifier object\n",
    "    def __init__(self, estimators = None, meta_learner = None, n_splits=2, \n",
    "                 proba_based_stacking=False, input_at_stack_layer=False):\n",
    "        \"\"\"Setup a SuperLearner classifier .\n",
    "        \n",
    "        Parameters\n",
    "        ----------\n",
    "        estimators: dictionary like structure to have base estimators key-value pair as name and object of classfier\n",
    "        meta_learner: a classifier to train on the output of stacked model\n",
    "        n_splits: number to split dataset in kfold and also specifies value for cross-validation cv=n_splits\n",
    "        proba_based_stacking: boolean variable with true and false, represent whether to use probablity based or label based \n",
    "                            output to train meta_learner\n",
    "        input_at_stack_layer: boolean variable to know whether to append input sample X at stacked layer to use only \n",
    "                            stacked layer output data\n",
    "        \n",
    "        Returns\n",
    "        -------\n",
    "        sets required parameters to the self object of SuperLearner classifier\n",
    "\n",
    "        \"\"\"   \n",
    "        if estimators is None:\n",
    "            dt = DecisionTreeClassifier()\n",
    "            rf = RandomForestClassifier()\n",
    "            lr = LogisticRegression()\n",
    "            svc = SVC(probability=True)\n",
    "            gb = GradientBoostingClassifier()\n",
    "            g_nb = GaussianNB()\n",
    "            self.estimators = {\"DecisionTree\":dt, \"RandomForest\":rf, \"LogisticRegression\":lr, \"SVC\":svc, \n",
    "                               \"GBoost\":gb, \"GaussionNB\": g_nb}\n",
    "        else:\n",
    "            self.estimators = estimators\n",
    "        \n",
    "        if meta_learner is None:\n",
    "            self.meta_learner = DecisionTreeClassifier()\n",
    "        else:\n",
    "            self.meta_learner = meta_learner\n",
    "            \n",
    "        self.n_splits = n_splits\n",
    "        self.proba_based_stacking = proba_based_stacking\n",
    "        self.base_learner_accuracy_comparisons = dict()\n",
    "        self.input_at_stack_layer = input_at_stack_layer\n",
    "        self.base_models_data = dict()\n",
    "        self.base_models_cross_val_score = dict()\n",
    "        \n",
    "\n",
    "    # The fit function to train a classifier\n",
    "    def fit(self, X, y):\n",
    "        \"\"\"Build a SuperLearner classifier from the training set (X, y).\n",
    "        Parameters\n",
    "        ----------\n",
    "        X : array-like, shape = [n_samples, n_features]\n",
    "            The training input samples. \n",
    "        y : array-like, shape = [n_samples] \n",
    "            The target values (class labels) as integers or strings.\n",
    "        Returns\n",
    "        -------\n",
    "        self : object\n",
    "        \"\"\"     \n",
    "        # generate stacked layer training set\n",
    "        kf = KFold(n_splits=self.n_splits)\n",
    "        stacked_feature = []\n",
    "        for name, model in self.estimators.items():\n",
    "            model_preds = []\n",
    "            base_model_true = []\n",
    "            base_model_pred = []\n",
    "            for train_index, valid_index in kf.split(X):\n",
    "                X_train, X_valid = X.iloc[train_index], X.iloc[valid_index]\n",
    "                y_train, y_valid = y[train_index], y[valid_index]\n",
    "                model.fit(X_train,y_train)\n",
    "                if self.proba_based_stacking:\n",
    "                    y_pred = model.predict_proba(X_valid)\n",
    "                    base_model_pred.append(model.predict(X_valid)) # store pred label of base model\n",
    "                else:\n",
    "                    y_pred = model.predict(X_valid)\n",
    "                    base_model_pred.append(y_pred) # store pred label of base model\n",
    "                    y_pred = y_pred.reshape((-1,1))\n",
    "                model_preds.append(y_pred)   \n",
    "                base_model_true.append(y_valid) # store true label of base model\n",
    "            model_preds = np.concatenate(model_preds)\n",
    "            stacked_feature.append(model_preds)\n",
    "            \n",
    "            # store true and pred data to calculate performance\n",
    "            self.base_models_data[name] = {\"true_label\" : np.concatenate(base_model_true),\n",
    "                                          \"pred_label\" : np.concatenate(base_model_pred)}\n",
    "            # calculate cross validation score of base models to check performance\n",
    "            self.base_models_cross_val_score[name] = model_selection.cross_val_score(model, X, y, cv=self.n_splits, scoring='accuracy')\n",
    "            \n",
    "        stacked_feature = np.concatenate(stacked_feature, axis=1)\n",
    "        if self.input_at_stack_layer is True:\n",
    "            stacked_feature = np.concatenate((stacked_feature, X), axis=1)\n",
    "        self.meta_learner.fit(stacked_feature, y)\n",
    "        # Return the classifier\n",
    "        return self\n",
    "\n",
    "    # The predict function to make a set of predictions for a set of query instances\n",
    "    def predict(self, X):\n",
    "        \"\"\"Predict class labels of the input samples X.\n",
    "        Parameters\n",
    "        ----------\n",
    "        X : array-like matrix of shape = [n_samples, n_features]\n",
    "            The input samples. \n",
    "        Returns\n",
    "        -------\n",
    "        p : array of shape = [n_samples, ].\n",
    "            The predicted class labels of the input samples. \n",
    "        \"\"\"\n",
    "        stacked_feature = []\n",
    "        for name, model in self.estimators.items():\n",
    "            if self.proba_based_stacking:\n",
    "                y_pred = model.predict_proba(X)\n",
    "            else:\n",
    "                y_pred = model.predict(X)\n",
    "                y_pred = y_pred.reshape((-1,1))\n",
    "            stacked_feature.append(y_pred)\n",
    "        stacked_feature = np.concatenate(stacked_feature, axis=1)\n",
    "        if self.input_at_stack_layer is True:\n",
    "            stacked_feature = np.concatenate((stacked_feature, X), axis=1)\n",
    "        return self.meta_learner.predict(stacked_feature)\n",
    "    \n",
    "    # The predict function to make a set of predictions for a set of query instances\n",
    "    def predict_proba(self, X):\n",
    "        \"\"\"Predict class probabilities of the input samples X.\n",
    "        Parameters\n",
    "        ----------\n",
    "        X : array-like matrix of shape = [n_samples, n_features]\n",
    "            The input samples. \n",
    "        Returns\n",
    "        -------\n",
    "        p : array of shape = [n_samples, n_labels].\n",
    "            The predicted class label probabilities of the input samples. \n",
    "        \"\"\"\n",
    "        stacked_feature = []\n",
    "        for name, model in self.estimators.items():\n",
    "            if self.proba_based_stacking:\n",
    "                y_pred = model.predict_proba(X)\n",
    "            else:\n",
    "                y_pred = model.predict(X)\n",
    "                y_pred = y_pred.reshape((-1,1))\n",
    "            stacked_feature.append(y_pred)\n",
    "        stacked_feature = np.concatenate(stacked_feature, axis=1)\n",
    "        return self.meta_learner.predict_proba(stacked_feature) \n",
    "    \n",
    "    # The performance report function to generate performance report of base learner\n",
    "    def print_base_models_performance_report(self):\n",
    "        base_models_accuracy, base_models_name = [], []\n",
    "        print(\"Accuracy of base classifiers\")\n",
    "        for name, accuracy in self.base_models_cross_val_score.items():\n",
    "            base_models_name.append(name)\n",
    "            base_models_accuracy.append(accuracy)\n",
    "            print(\"%s: %0.2f (+/- %0.2f)\" % (name, accuracy.mean(), accuracy.std() * 2))\n",
    "        \n",
    "        # plotting box and whisker to compare base models performance\n",
    "        fig = plt.figure(figsize = (12,7))\n",
    "        fig.suptitle('Base Models Accuracy Comparison')\n",
    "        ax = fig.add_subplot(111)\n",
    "        plt.boxplot(base_models_accuracy)\n",
    "        ax.set_xticklabels(base_models_name)\n",
    "        ax.set_xlabel('Methods')\n",
    "        ax.set_ylabel('Accuracy')\n",
    "        plt.show()\n",
    "    \n",
    "        pred_list, true_list = [], []\n",
    "        for name, data in self.base_models_data.items():\n",
    "            pred_list.append(data['pred_label'])\n",
    "            if len(true_list) is 0:\n",
    "                true_list = data['true_label']\n",
    "\n",
    "        # pairwise correlation\n",
    "        data = { name:data['pred_label'] for name, data in self.base_models_data.items()}\n",
    "        df = pd.DataFrame(data=data)\n",
    "        print(\"Correlation coefficient of classifiers\")\n",
    "        print(df.corr().round(2)) # using pearson correlation coefficient\n",
    "        \n",
    "        # Calculate Kohavi-Wolpert score\n",
    "        kw_score = calculate_kw_variance(pred_list, true_list)\n",
    "        print(\"Kohavi-Wolpert variance score: %0.2f\" % (kw_score))"
   ]
  },
  {
   "cell_type": "markdown",
   "metadata": {},
   "source": [
    "### Test the SuperLearnerClassifier"
   ]
  },
  {
   "cell_type": "markdown",
   "metadata": {},
   "source": [
    "Perform a simple test using the SuperLearnClassifier on the Iris dataset"
   ]
  },
  {
   "cell_type": "code",
   "execution_count": 4,
   "metadata": {
    "scrolled": false
   },
   "outputs": [
    {
     "name": "stdout",
     "output_type": "stream",
     "text": [
      "[0.96666667 0.96666667 0.9        0.93333333 0.96666667]\n",
      "Accuracy: 0.95 (+/- 0.05)\n"
     ]
    }
   ],
   "source": [
    "from sklearn.datasets import load_iris\n",
    "clf = SuperLearnerClassifier(proba_based_stacking=True)\n",
    "iris = load_iris()\n",
    "clf.fit(pd.DataFrame(iris.data), iris.target)\n",
    "scores = cross_val_score(clf, pd.DataFrame(iris.data), iris.target, cv=5)\n",
    "print(scores)\n",
    "print(\"Accuracy: %0.2f (+/- %0.2f)\" % (scores.mean(), scores.std() * 2))"
   ]
  },
  {
   "cell_type": "markdown",
   "metadata": {},
   "source": [
    "## Load & Partition Data"
   ]
  },
  {
   "cell_type": "markdown",
   "metadata": {},
   "source": [
    "### Setup - IMPORTANT"
   ]
  },
  {
   "cell_type": "markdown",
   "metadata": {},
   "source": [
    "Take only a sample of the dataset for fast testing"
   ]
  },
  {
   "cell_type": "code",
   "execution_count": 5,
   "metadata": {
    "collapsed": true
   },
   "outputs": [],
   "source": [
    "data_sampling_rate = 0.01"
   ]
  },
  {
   "cell_type": "markdown",
   "metadata": {},
   "source": [
    "Setup the number of folds for all grid searches (should be 5 - 10)"
   ]
  },
  {
   "cell_type": "code",
   "execution_count": 6,
   "metadata": {
    "collapsed": true
   },
   "outputs": [],
   "source": [
    "cv_folds = 5"
   ]
  },
  {
   "cell_type": "markdown",
   "metadata": {},
   "source": [
    "### Load Dataset"
   ]
  },
  {
   "cell_type": "markdown",
   "metadata": {},
   "source": [
    "Load the dataset and explore it."
   ]
  },
  {
   "cell_type": "code",
   "execution_count": 7,
   "metadata": {
    "scrolled": true
   },
   "outputs": [
    {
     "data": {
      "text/html": [
       "<div>\n",
       "<style scoped>\n",
       "    .dataframe tbody tr th:only-of-type {\n",
       "        vertical-align: middle;\n",
       "    }\n",
       "\n",
       "    .dataframe tbody tr th {\n",
       "        vertical-align: top;\n",
       "    }\n",
       "\n",
       "    .dataframe thead th {\n",
       "        text-align: right;\n",
       "    }\n",
       "</style>\n",
       "<table border=\"1\" class=\"dataframe\">\n",
       "  <thead>\n",
       "    <tr style=\"text-align: right;\">\n",
       "      <th></th>\n",
       "      <th>label</th>\n",
       "      <th>pixel1</th>\n",
       "      <th>pixel2</th>\n",
       "      <th>pixel3</th>\n",
       "      <th>pixel4</th>\n",
       "      <th>pixel5</th>\n",
       "      <th>pixel6</th>\n",
       "      <th>pixel7</th>\n",
       "      <th>pixel8</th>\n",
       "      <th>pixel9</th>\n",
       "      <th>...</th>\n",
       "      <th>pixel775</th>\n",
       "      <th>pixel776</th>\n",
       "      <th>pixel777</th>\n",
       "      <th>pixel778</th>\n",
       "      <th>pixel779</th>\n",
       "      <th>pixel780</th>\n",
       "      <th>pixel781</th>\n",
       "      <th>pixel782</th>\n",
       "      <th>pixel783</th>\n",
       "      <th>pixel784</th>\n",
       "    </tr>\n",
       "  </thead>\n",
       "  <tbody>\n",
       "    <tr>\n",
       "      <th>52709</th>\n",
       "      <td>7</td>\n",
       "      <td>0</td>\n",
       "      <td>0</td>\n",
       "      <td>0</td>\n",
       "      <td>0</td>\n",
       "      <td>0</td>\n",
       "      <td>0</td>\n",
       "      <td>0</td>\n",
       "      <td>0</td>\n",
       "      <td>0</td>\n",
       "      <td>...</td>\n",
       "      <td>0</td>\n",
       "      <td>0</td>\n",
       "      <td>0</td>\n",
       "      <td>0</td>\n",
       "      <td>0</td>\n",
       "      <td>0</td>\n",
       "      <td>0</td>\n",
       "      <td>0</td>\n",
       "      <td>0</td>\n",
       "      <td>0</td>\n",
       "    </tr>\n",
       "    <tr>\n",
       "      <th>47845</th>\n",
       "      <td>4</td>\n",
       "      <td>0</td>\n",
       "      <td>0</td>\n",
       "      <td>0</td>\n",
       "      <td>0</td>\n",
       "      <td>0</td>\n",
       "      <td>0</td>\n",
       "      <td>0</td>\n",
       "      <td>0</td>\n",
       "      <td>1</td>\n",
       "      <td>...</td>\n",
       "      <td>3</td>\n",
       "      <td>4</td>\n",
       "      <td>0</td>\n",
       "      <td>0</td>\n",
       "      <td>132</td>\n",
       "      <td>162</td>\n",
       "      <td>42</td>\n",
       "      <td>0</td>\n",
       "      <td>0</td>\n",
       "      <td>0</td>\n",
       "    </tr>\n",
       "    <tr>\n",
       "      <th>2609</th>\n",
       "      <td>1</td>\n",
       "      <td>0</td>\n",
       "      <td>0</td>\n",
       "      <td>0</td>\n",
       "      <td>0</td>\n",
       "      <td>0</td>\n",
       "      <td>0</td>\n",
       "      <td>0</td>\n",
       "      <td>0</td>\n",
       "      <td>0</td>\n",
       "      <td>...</td>\n",
       "      <td>92</td>\n",
       "      <td>94</td>\n",
       "      <td>0</td>\n",
       "      <td>0</td>\n",
       "      <td>0</td>\n",
       "      <td>0</td>\n",
       "      <td>0</td>\n",
       "      <td>0</td>\n",
       "      <td>0</td>\n",
       "      <td>0</td>\n",
       "    </tr>\n",
       "    <tr>\n",
       "      <th>34293</th>\n",
       "      <td>5</td>\n",
       "      <td>0</td>\n",
       "      <td>0</td>\n",
       "      <td>0</td>\n",
       "      <td>0</td>\n",
       "      <td>0</td>\n",
       "      <td>0</td>\n",
       "      <td>0</td>\n",
       "      <td>0</td>\n",
       "      <td>0</td>\n",
       "      <td>...</td>\n",
       "      <td>0</td>\n",
       "      <td>0</td>\n",
       "      <td>0</td>\n",
       "      <td>0</td>\n",
       "      <td>0</td>\n",
       "      <td>0</td>\n",
       "      <td>0</td>\n",
       "      <td>0</td>\n",
       "      <td>0</td>\n",
       "      <td>0</td>\n",
       "    </tr>\n",
       "    <tr>\n",
       "      <th>59820</th>\n",
       "      <td>3</td>\n",
       "      <td>0</td>\n",
       "      <td>0</td>\n",
       "      <td>0</td>\n",
       "      <td>0</td>\n",
       "      <td>0</td>\n",
       "      <td>0</td>\n",
       "      <td>0</td>\n",
       "      <td>0</td>\n",
       "      <td>0</td>\n",
       "      <td>...</td>\n",
       "      <td>99</td>\n",
       "      <td>82</td>\n",
       "      <td>5</td>\n",
       "      <td>0</td>\n",
       "      <td>0</td>\n",
       "      <td>0</td>\n",
       "      <td>0</td>\n",
       "      <td>0</td>\n",
       "      <td>0</td>\n",
       "      <td>0</td>\n",
       "    </tr>\n",
       "  </tbody>\n",
       "</table>\n",
       "<p>5 rows × 785 columns</p>\n",
       "</div>"
      ],
      "text/plain": [
       "       label  pixel1  pixel2  pixel3  pixel4  pixel5  pixel6  pixel7  pixel8  \\\n",
       "52709      7       0       0       0       0       0       0       0       0   \n",
       "47845      4       0       0       0       0       0       0       0       0   \n",
       "2609       1       0       0       0       0       0       0       0       0   \n",
       "34293      5       0       0       0       0       0       0       0       0   \n",
       "59820      3       0       0       0       0       0       0       0       0   \n",
       "\n",
       "       pixel9    ...     pixel775  pixel776  pixel777  pixel778  pixel779  \\\n",
       "52709       0    ...            0         0         0         0         0   \n",
       "47845       1    ...            3         4         0         0       132   \n",
       "2609        0    ...           92        94         0         0         0   \n",
       "34293       0    ...            0         0         0         0         0   \n",
       "59820       0    ...           99        82         5         0         0   \n",
       "\n",
       "       pixel780  pixel781  pixel782  pixel783  pixel784  \n",
       "52709         0         0         0         0         0  \n",
       "47845       162        42         0         0         0  \n",
       "2609          0         0         0         0         0  \n",
       "34293         0         0         0         0         0  \n",
       "59820         0         0         0         0         0  \n",
       "\n",
       "[5 rows x 785 columns]"
      ]
     },
     "metadata": {},
     "output_type": "display_data"
    }
   ],
   "source": [
    "dataset = pd.read_csv('fashion-mnist_train.csv')\n",
    "dataset = dataset.sample(frac=data_sampling_rate) #take a sample from the dataset so everyhting runs smoothly\n",
    "num_classes = 10\n",
    "classes = {0: \"T-shirt/top\", 1:\"Trouser\", 2: \"Pullover\", 3:\"Dress\", 4:\"Coat\", 5:\"Sandal\", 6:\"Shirt\", 7:\"Sneaker\", 8:\"Bag\", 9:\"Ankle boot\"}\n",
    "display(dataset.head())"
   ]
  },
  {
   "cell_type": "markdown",
   "metadata": {},
   "source": [
    "### Pre-process & Partition Data"
   ]
  },
  {
   "cell_type": "markdown",
   "metadata": {},
   "source": [
    "Perform data pre-processing and manipulation as required"
   ]
  },
  {
   "cell_type": "code",
   "execution_count": 8,
   "metadata": {
    "collapsed": true
   },
   "outputs": [],
   "source": [
    "# take input and label data from dataset\n",
    "X = dataset[dataset.columns[1:]]\n",
    "Y = np.array(dataset[\"label\"])\n",
    "\n",
    "# Normalize X\n",
    "X = X/255"
   ]
  },
  {
   "cell_type": "code",
   "execution_count": 9,
   "metadata": {},
   "outputs": [
    {
     "data": {
      "text/plain": [
       "False"
      ]
     },
     "execution_count": 9,
     "metadata": {},
     "output_type": "execute_result"
    }
   ],
   "source": [
    "# check if dataset contains null values\n",
    "dataset.isnull().any().any()"
   ]
  },
  {
   "cell_type": "code",
   "execution_count": 10,
   "metadata": {
    "collapsed": true
   },
   "outputs": [],
   "source": [
    "# split data into train, valid and test\n",
    "X_train_plus_valid, X_test, y_train_plus_valid, y_test = train_test_split(X, Y, random_state=0, test_size = 0.3)\n",
    "X_train, X_valid, y_train, y_valid = train_test_split(X_train_plus_valid, y_train_plus_valid,random_state=0, test_size = 0.3)"
   ]
  },
  {
   "cell_type": "markdown",
   "metadata": {},
   "source": [
    "## Train and Evaluate a Simple Model"
   ]
  },
  {
   "cell_type": "markdown",
   "metadata": {},
   "source": [
    "### Basic Decision Tree"
   ]
  },
  {
   "cell_type": "code",
   "execution_count": 11,
   "metadata": {},
   "outputs": [
    {
     "name": "stdout",
     "output_type": "stream",
     "text": [
      "Accuracy: 0.7055555555555556\n"
     ]
    }
   ],
   "source": [
    "decision_tree = DecisionTreeClassifier(criterion=\"entropy\")\n",
    "decision_tree.fit(X_train_plus_valid,y_train_plus_valid)\n",
    "y_pred = decision_tree.predict(X_test)\n",
    "accuracy = metrics.accuracy_score(y_test, y_pred)\n",
    "print(\"Accuracy: \" +  str(accuracy))"
   ]
  },
  {
   "cell_type": "markdown",
   "metadata": {},
   "source": [
    "Train a Super Learner Classifier using the prepared dataset"
   ]
  },
  {
   "cell_type": "code",
   "execution_count": 12,
   "metadata": {},
   "outputs": [
    {
     "data": {
      "text/plain": [
       "SuperLearnerClassifier(estimators={'DecisionTree': DecisionTreeClassifier(class_weight=None, criterion='gini', max_depth=None,\n",
       "            max_features=None, max_leaf_nodes=None,\n",
       "            min_impurity_decrease=0.0, min_impurity_split=None,\n",
       "            min_samples_leaf=1, min_samples_split=2,\n",
       "            min_weight_frac...e, subsample=1.0, verbose=0,\n",
       "              warm_start=False), 'GaussionNB': GaussianNB(priors=None)},\n",
       "            input_at_stack_layer=False,\n",
       "            meta_learner=DecisionTreeClassifier(class_weight=None, criterion='gini', max_depth=None,\n",
       "            max_features=None, max_leaf_nodes=None,\n",
       "            min_impurity_decrease=0.0, min_impurity_split=None,\n",
       "            min_samples_leaf=1, min_samples_split=2,\n",
       "            min_weight_fraction_leaf=0.0, presort=False, random_state=None,\n",
       "            splitter='best'),\n",
       "            n_splits=5, proba_based_stacking=True)"
      ]
     },
     "execution_count": 12,
     "metadata": {},
     "output_type": "execute_result"
    }
   ],
   "source": [
    "super_learner = SuperLearnerClassifier(n_splits=cv_folds, proba_based_stacking=True)\n",
    "super_learner.fit(X_train_plus_valid,y_train_plus_valid)"
   ]
  },
  {
   "cell_type": "markdown",
   "metadata": {},
   "source": [
    "Evaluate the trained classifier"
   ]
  },
  {
   "cell_type": "code",
   "execution_count": 13,
   "metadata": {
    "scrolled": false
   },
   "outputs": [
    {
     "name": "stdout",
     "output_type": "stream",
     "text": [
      "Accuracy of SuperLearner: 0.7166666666666667\n",
      "\n",
      "Classification report\n",
      "             precision    recall  f1-score   support\n",
      "\n",
      "          0       0.54      0.54      0.54        13\n",
      "          1       1.00      0.73      0.84        22\n",
      "          2       0.55      0.65      0.59        17\n",
      "          3       0.58      0.83      0.68        18\n",
      "          4       0.65      0.71      0.68        21\n",
      "          5       0.81      0.93      0.87        14\n",
      "          6       0.31      0.21      0.25        19\n",
      "          7       0.82      0.82      0.82        17\n",
      "          8       0.94      0.84      0.89        19\n",
      "          9       0.95      0.90      0.92        20\n",
      "\n",
      "avg / total       0.72      0.72      0.71       180\n",
      "\n"
     ]
    },
    {
     "data": {
      "image/png": "[encoded data removed]",
      "text/plain": [
       "<matplotlib.figure.Figure at 0x7f32ca84edd8>"
      ]
     },
     "metadata": {},
     "output_type": "display_data"
    },
    {
     "data": {
      "text/plain": [
       "<matplotlib.figure.Figure at 0x7f32cb47ab38>"
      ]
     },
     "metadata": {},
     "output_type": "display_data"
    }
   ],
   "source": [
    "y_pred = super_learner.predict(X_test)\n",
    "accuracy = metrics.accuracy_score(y_test, y_pred)\n",
    "print(\"Accuracy of SuperLearner: \" +  str(accuracy))\n",
    "print(\"\\nClassification report\")\n",
    "print(metrics.classification_report(y_test, y_pred))\n",
    "\n",
    "# Print confusion matrix\n",
    "cm_train = metrics.confusion_matrix(y_test, y_pred)\n",
    "\n",
    "ax = plt.axes()\n",
    "plt.figure(figsize = (7,5))\n",
    "sn.set(font_scale=1.4)\n",
    "sn.heatmap(cm_train, annot=True,annot_kws={\"size\": 16}, ax=ax, fmt='g')# font size\n",
    "ax.set_title('Confusion Matrix - Probability based stacking')\n",
    "plt.show()"
   ]
  },
  {
   "cell_type": "markdown",
   "metadata": {},
   "source": [
    "## Cross Validation Experiment (Task 2)"
   ]
  },
  {
   "cell_type": "markdown",
   "metadata": {},
   "source": [
    "Perfrom a 10-fold cross validation experiment to evaluate the performance of the SuperLearnerClassifier"
   ]
  },
  {
   "cell_type": "code",
   "execution_count": 14,
   "metadata": {},
   "outputs": [
    {
     "name": "stdout",
     "output_type": "stream",
     "text": [
      "Accuracy: 0.69 (+/- 0.14)\n"
     ]
    }
   ],
   "source": [
    "# Add code here\n",
    "scores = cross_val_score(super_learner, X, Y, cv=10)\n",
    "print(\"Accuracy: %0.2f (+/- %0.2f)\" % (scores.mean(), scores.std() * 2))"
   ]
  },
  {
   "cell_type": "markdown",
   "metadata": {},
   "source": [
    "## Comparing the Performance of Different Stack Layer Approaches (Task 5)"
   ]
  },
  {
   "cell_type": "markdown",
   "metadata": {},
   "source": [
    "Compare the performance of the ensemble when a label based stack layer training set and a probability based stack layer training set is used."
   ]
  },
  {
   "cell_type": "code",
   "execution_count": 15,
   "metadata": {},
   "outputs": [
    {
     "name": "stdout",
     "output_type": "stream",
     "text": [
      "Accuracy: 0.6944444444444444\n",
      "\n",
      "Classification report\n",
      "             precision    recall  f1-score   support\n",
      "\n",
      "          0       0.50      0.54      0.52        13\n",
      "          1       1.00      0.77      0.87        22\n",
      "          2       0.63      0.71      0.67        17\n",
      "          3       0.65      0.83      0.73        18\n",
      "          4       0.69      0.52      0.59        21\n",
      "          5       0.63      0.86      0.73        14\n",
      "          6       0.47      0.37      0.41        19\n",
      "          7       0.74      0.82      0.78        17\n",
      "          8       0.65      0.79      0.71        19\n",
      "          9       1.00      0.75      0.86        20\n",
      "\n",
      "avg / total       0.71      0.69      0.69       180\n",
      "\n"
     ]
    },
    {
     "data": {
      "image/png": "[encoded data removed]",
      "text/plain": [
       "<matplotlib.figure.Figure at 0x7f330467e2b0>"
      ]
     },
     "metadata": {},
     "output_type": "display_data"
    },
    {
     "data": {
      "text/plain": [
       "<matplotlib.figure.Figure at 0x7f330465bc88>"
      ]
     },
     "metadata": {},
     "output_type": "display_data"
    }
   ],
   "source": [
    "# Add code here\n",
    "super_learner1 = SuperLearnerClassifier(n_splits=cv_folds, proba_based_stacking=False)\n",
    "super_learner1.fit(X_train_plus_valid,y_train_plus_valid)\n",
    "\n",
    "y_pred = super_learner1.predict(X_test)\n",
    "accuracy = metrics.accuracy_score(y_test, y_pred)\n",
    "print(\"Accuracy: \" +  str(accuracy))\n",
    "print(\"\\nClassification report\")\n",
    "print(metrics.classification_report(y_test, y_pred))\n",
    "\n",
    "# Print confusion matrix\n",
    "cm_train = metrics.confusion_matrix(y_test, y_pred)\n",
    "\n",
    "ax = plt.axes()\n",
    "plt.figure(figsize = (7,5))\n",
    "sn.set(font_scale=1.4)\n",
    "sn.heatmap(cm_train, annot=True,annot_kws={\"size\": 16}, ax=ax, fmt='g')# font size\n",
    "ax.set_title('Confusion Matrix - Label based stacking')\n",
    "plt.show()"
   ]
  },
  {
   "cell_type": "markdown",
   "metadata": {},
   "source": [
    "## Grid Search Through SuperLearnerClassifier Architectures & Parameters (Task 7)"
   ]
  },
  {
   "cell_type": "markdown",
   "metadata": {},
   "source": [
    "Perfrom a grid search experiment to detemrine the optimal architecture and hyper-parameter values for the SuperLearnClasssifier for the MNIST Fashion classification problem."
   ]
  },
  {
   "cell_type": "code",
   "execution_count": 17,
   "metadata": {
    "scrolled": true
   },
   "outputs": [
    {
     "name": "stdout",
     "output_type": "stream",
     "text": [
      "Fitting 5 folds for each of 12 candidates, totalling 60 fits\n"
     ]
    },
    {
     "name": "stderr",
     "output_type": "stream",
     "text": [
      "[Parallel(n_jobs=1)]: Done  60 out of  60 | elapsed: 28.8min finished\n"
     ]
    },
    {
     "data": {
      "text/plain": [
       "GridSearchCV(cv=5, error_score='raise',\n",
       "       estimator=SuperLearnerClassifier(estimators={'DecisionTree': DecisionTreeClassifier(class_weight=None, criterion='gini', max_depth=None,\n",
       "            max_features=None, max_leaf_nodes=None,\n",
       "            min_impurity_decrease=0.0, min_impurity_split=None,\n",
       "            min_samples_leaf=1, min_samples_spl...random_state=None,\n",
       "            splitter='best'),\n",
       "            n_splits=2, proba_based_stacking=False),\n",
       "       fit_params=None, iid=True, n_jobs=1,\n",
       "       param_grid={'estimators': [{'DecisionTree': DecisionTreeClassifier(class_weight=None, criterion='gini', max_depth=None,\n",
       "            max_features=None, max_leaf_nodes=None,\n",
       "            min_impurity_decrease=0.0, min_impurity_split=None,\n",
       "            min_samples_leaf=1, min_samples_split=2,\n",
       "           ...01,\n",
       "          verbose=0, warm_start=False)], 'n_splits': [5], 'proba_based_stacking': [True, False]},\n",
       "       pre_dispatch='2*n_jobs', refit=True, return_train_score=True,\n",
       "       scoring='accuracy', verbose=1)"
      ]
     },
     "execution_count": 17,
     "metadata": {},
     "output_type": "execute_result"
    }
   ],
   "source": [
    "# function to return base learner\n",
    "dt = DecisionTreeClassifier()\n",
    "rf = RandomForestClassifier()\n",
    "lr = LogisticRegression()\n",
    "svc = SVC(probability=True)\n",
    "gb = GradientBoostingClassifier()\n",
    "g_nb = GaussianNB()\n",
    "estimators = {\"DecisionTree\":dt, \"RandomForest\":rf, \"LogisticRegression\":lr, \"SVC\":svc, \"GBoost\":gb, \"GaussionNB\": g_nb}\n",
    "\n",
    "# Set up the parameter grid for Decision Tree\n",
    "param_grid ={'estimators': [{\"DecisionTree\":dt, \"RandomForest\":rf, \"LogisticRegression\":lr}, \n",
    "                            {\"SVC\":svc, \"GBoost\":gb, \"GaussionNB\": g_nb},\n",
    "                            {\"RandomForest\":rf, \"LogisticRegression\":lr, \"SVC\":svc}],\n",
    "             'meta_learner':[DecisionTreeClassifier(), LogisticRegression()],\n",
    "             'n_splits': [cv_folds], \n",
    "             'proba_based_stacking': [True, False]}\n",
    "\n",
    "# Perform the search\n",
    "tuned_super_learner = GridSearchCV(SuperLearnerClassifier(), \n",
    "                                   param_grid, cv=cv_folds, verbose = 1, \n",
    "                                   return_train_score=True,\n",
    "                                   scoring='accuracy')\n",
    "tuned_super_learner.fit(X_train_plus_valid, y_train_plus_valid)"
   ]
  },
  {
   "cell_type": "markdown",
   "metadata": {},
   "source": [
    "Evaluate the performance of the model selected by the grid search on a hold-out dataset"
   ]
  },
  {
   "cell_type": "code",
   "execution_count": 18,
   "metadata": {},
   "outputs": [
    {
     "name": "stdout",
     "output_type": "stream",
     "text": [
      "Best parameters set found on training set:\n"
     ]
    },
    {
     "data": {
      "text/plain": [
       "{'estimators': {'LogisticRegression': LogisticRegression(C=1.0, class_weight=None, dual=False, fit_intercept=True,\n",
       "            intercept_scaling=1, max_iter=100, multi_class='ovr', n_jobs=1,\n",
       "            penalty='l2', random_state=None, solver='liblinear', tol=0.0001,\n",
       "            verbose=0, warm_start=False),\n",
       "  'RandomForest': RandomForestClassifier(bootstrap=True, class_weight=None, criterion='gini',\n",
       "              max_depth=None, max_features='auto', max_leaf_nodes=None,\n",
       "              min_impurity_decrease=0.0, min_impurity_split=None,\n",
       "              min_samples_leaf=1, min_samples_split=2,\n",
       "              min_weight_fraction_leaf=0.0, n_estimators=10, n_jobs=1,\n",
       "              oob_score=False, random_state=None, verbose=0,\n",
       "              warm_start=False),\n",
       "  'SVC': SVC(C=1.0, cache_size=200, class_weight=None, coef0=0.0,\n",
       "    decision_function_shape='ovr', degree=3, gamma='auto', kernel='rbf',\n",
       "    max_iter=-1, probability=True, random_state=None, shrinking=True,\n",
       "    tol=0.001, verbose=False)},\n",
       " 'meta_learner': LogisticRegression(C=1.0, class_weight=None, dual=False, fit_intercept=True,\n",
       "           intercept_scaling=1, max_iter=100, multi_class='ovr', n_jobs=1,\n",
       "           penalty='l2', random_state=None, solver='liblinear', tol=0.0001,\n",
       "           verbose=0, warm_start=False),\n",
       " 'n_splits': 5,\n",
       " 'proba_based_stacking': True}"
      ]
     },
     "metadata": {},
     "output_type": "display_data"
    },
    {
     "name": "stdout",
     "output_type": "stream",
     "text": [
      "Accuracy: 0.7944444444444444\n",
      "\n",
      "Classification report\n",
      "             precision    recall  f1-score   support\n",
      "\n",
      "          0       0.67      0.92      0.77        13\n",
      "          1       0.94      0.77      0.85        22\n",
      "          2       0.68      0.76      0.72        17\n",
      "          3       0.68      0.83      0.75        18\n",
      "          4       0.71      0.71      0.71        21\n",
      "          5       0.93      1.00      0.97        14\n",
      "          6       0.58      0.37      0.45        19\n",
      "          7       0.93      0.82      0.87        17\n",
      "          8       0.89      0.89      0.89        19\n",
      "          9       0.90      0.95      0.93        20\n",
      "\n",
      "avg / total       0.80      0.79      0.79       180\n",
      "\n"
     ]
    },
    {
     "data": {
      "image/png": "[encoded data removed]",
      "text/plain": [
       "<matplotlib.figure.Figure at 0x7f32c8572f28>"
      ]
     },
     "metadata": {},
     "output_type": "display_data"
    },
    {
     "data": {
      "text/plain": [
       "<matplotlib.figure.Figure at 0x7f32c85729b0>"
      ]
     },
     "metadata": {},
     "output_type": "display_data"
    }
   ],
   "source": [
    "y_pred = tuned_super_learner.predict(X_test)\n",
    "\n",
    "# Print details\n",
    "print(\"Best parameters set found on training set:\")\n",
    "display(tuned_super_learner.best_params_)\n",
    "\n",
    "# Calculate classification accuracy\n",
    "accuracy = metrics.accuracy_score(y_test, y_pred)\n",
    "print(\"Accuracy: \" +  str(accuracy))\n",
    "print(\"\\nClassification report\")\n",
    "print(metrics.classification_report(y_test, y_pred))\n",
    "\n",
    "# Print confusion matrix\n",
    "cm_train = metrics.confusion_matrix(y_test, y_pred)\n",
    "\n",
    "ax = plt.axes()\n",
    "plt.figure(figsize = (7,5))\n",
    "sn.set(font_scale=1.4) #for label size\n",
    "sn.heatmap(cm_train, annot=True,annot_kws={\"size\": 16}, ax=ax, fmt='g')# font size\n",
    "ax.set_title('Confusion Matrix - Tuned SuperLearner ')\n",
    "plt.show()"
   ]
  },
  {
   "cell_type": "markdown",
   "metadata": {},
   "source": [
    "## Evaluating the Impact of Adding Original Descriptive Features at the Stack Layer (Task 8)"
   ]
  },
  {
   "cell_type": "markdown",
   "metadata": {},
   "source": [
    "Evaluate the impact of adding original descriptive features at the stack layer."
   ]
  },
  {
   "cell_type": "code",
   "execution_count": 19,
   "metadata": {},
   "outputs": [
    {
     "name": "stdout",
     "output_type": "stream",
     "text": [
      "Accuracy: 0.7888888888888889\n",
      "\n",
      "Classification report\n",
      "             precision    recall  f1-score   support\n",
      "\n",
      "          0       0.71      0.92      0.80        13\n",
      "          1       1.00      0.77      0.87        22\n",
      "          2       0.76      0.76      0.76        17\n",
      "          3       0.70      0.89      0.78        18\n",
      "          4       0.64      0.67      0.65        21\n",
      "          5       0.93      0.93      0.93        14\n",
      "          6       0.57      0.42      0.48        19\n",
      "          7       0.87      0.76      0.81        17\n",
      "          8       0.89      0.89      0.89        19\n",
      "          9       0.86      0.95      0.90        20\n",
      "\n",
      "avg / total       0.79      0.79      0.79       180\n",
      "\n"
     ]
    },
    {
     "data": {
      "image/png": "[encoded data removed]",
      "text/plain": [
       "<matplotlib.figure.Figure at 0x7f32c84cf588>"
      ]
     },
     "metadata": {},
     "output_type": "display_data"
    },
    {
     "data": {
      "text/plain": [
       "<matplotlib.figure.Figure at 0x7f32c85aaac8>"
      ]
     },
     "metadata": {},
     "output_type": "display_data"
    }
   ],
   "source": [
    "# using best configuration from GridSearchCV result\n",
    "estimators = {\"LogisticRegression\":lr, \"RandomForest\":rf, \"SVC\":svc}\n",
    "meta_learner = LogisticRegression()\n",
    "n_splits = cv_folds\n",
    "\n",
    "# training SuperLearnerClassifier with best configuration\n",
    "super_learner2 = SuperLearnerClassifier(estimators = estimators, meta_learner = meta_learner, n_splits=n_splits, proba_based_stacking=True, input_at_stack_layer=True)\n",
    "super_learner2.fit(X_train_plus_valid,y_train_plus_valid)\n",
    "\n",
    "y_pred = super_learner2.predict(X_test)\n",
    "accuracy = metrics.accuracy_score(y_test, y_pred)\n",
    "print(\"Accuracy: \" +  str(accuracy))\n",
    "print(\"\\nClassification report\")\n",
    "print(metrics.classification_report(y_test, y_pred))\n",
    "\n",
    "# Print confusion matrix\n",
    "cm_train = metrics.confusion_matrix(y_test, y_pred)\n",
    "\n",
    "ax = plt.axes()\n",
    "plt.figure(figsize = (7,5))\n",
    "sn.set(font_scale=1.4)\n",
    "sn.heatmap(cm_train, annot=True,annot_kws={\"size\": 16}, ax=ax, fmt='g')# font size\n",
    "ax.set_title('Confusion Matrix - Adding original descriptive features at the stack layer')\n",
    "plt.show()"
   ]
  },
  {
   "cell_type": "markdown",
   "metadata": {},
   "source": [
    "## Explore the Ensemble Model (Task 9)"
   ]
  },
  {
   "cell_type": "markdown",
   "metadata": {},
   "source": [
    "Perform an analysis to investigate the strength of the base estimators and the strengths of the correlations between them."
   ]
  },
  {
   "cell_type": "code",
   "execution_count": 20,
   "metadata": {
    "scrolled": false
   },
   "outputs": [
    {
     "name": "stdout",
     "output_type": "stream",
     "text": [
      "Accuracy of base classifiers\n",
      "LogisticRegression: 0.79 (+/- 0.06)\n",
      "RandomForest: 0.71 (+/- 0.08)\n",
      "SVC: 0.66 (+/- 0.05)\n"
     ]
    },
    {
     "data": {
      "image/png": "[encoded data removed]",
      "text/plain": [
       "<matplotlib.figure.Figure at 0x7f32c81d5e10>"
      ]
     },
     "metadata": {},
     "output_type": "display_data"
    },
    {
     "name": "stdout",
     "output_type": "stream",
     "text": [
      "Correlation coefficient of classifiers\n",
      "                    LogisticRegression  RandomForest   SVC\n",
      "LogisticRegression                1.00          0.88  0.83\n",
      "RandomForest                      0.88          1.00  0.85\n",
      "SVC                               0.83          0.85  1.00\n",
      "Kohavi-Wolpert variance score: 0.07\n"
     ]
    }
   ],
   "source": [
    "'''printing the performance report of print the performance report of SuperLearner classifier which \n",
    "uses the best hyperparameter found using GridSearchCV above.\n",
    "''' \n",
    "# print the performance report of Superlearner withh tunned parameter\n",
    "super_learner2.print_base_models_performance_report()\n",
    "\n",
    "# plot classification accuracy of base and SuperLearner classifier\n",
    "classifier_test_accuracy_comparisons = {}\n",
    "for name, mode_accuracy in super_learner2.base_models_cross_val_score.items():\n",
    "    classifier_test_accuracy_comparisons[name] = mode_accuracy.mean()\n",
    "classifier_test_accuracy_comparisons[\"SuperLearner\"] = accuracy"
   ]
  },
  {
   "cell_type": "code",
   "execution_count": 21,
   "metadata": {},
   "outputs": [
    {
     "data": {
      "image/png": "[encoded data removed]",
      "text/plain": [
       "<matplotlib.figure.Figure at 0x7f32c85aa160>"
      ]
     },
     "metadata": {},
     "output_type": "display_data"
    }
   ],
   "source": [
    "# plot comparison barchart for all the classifiers used in ensemble including SuperLearner\n",
    "plt.xlim(0, 1.0)\n",
    "_ = plt.barh(range(len(classifier_test_accuracy_comparisons)), list(classifier_test_accuracy_comparisons.values()), align='center')\n",
    "_= plt.yticks(range(len(classifier_test_accuracy_comparisons)), list(classifier_test_accuracy_comparisons.keys()))"
   ]
  },
  {
   "cell_type": "markdown",
   "metadata": {},
   "source": [
    "### Analysis report"
   ]
  },
  {
   "cell_type": "markdown",
   "metadata": {
    "collapsed": true
   },
   "source": [
    "In the above experiment, I have used base estimator with default parameters in stacked ensemble and for meta learner classifier as well. Implemented SuperLearner classifier has been tested on Irish dataset and accuracy of this classification is 95%. I have used data sampling factor 5% to get sample of the complete dataset to train and test the SuperLearner classifier and used 5 fold cross validation to evaluate the SuperLearner.\n",
    "\n",
    "Accuracy of every steps and SuperLearner with various configuration has been metioned below.\n",
    "1. Decision Tree: 70%\n",
    "2. SuperLearner with probability based stacking: 71%\n",
    "3. SuperLearner without probability based stacking: 69%\n",
    "4. SuperLearner with adding original descriptive features at the Stack Layer: 78%\n",
    "\n",
    "Analysis:\n",
    "SuperLearner with adding adding original descriptive feature outperformed (accuracy=78%) every configurations and SuperLearner with probability based stacking seems to be good option after adding descriptive feature methods where it gave 71% accuracy.\n",
    "\n",
    "I have found best parameters for SuperLearner using GridSeachCV method as follows:\n",
    "1. Best set of estimators: LogisticRegression, Random Forest, SVC\n",
    "2. Best meta learner: Logistic Regression (out of Decision Tree and Logistic Regression)\n",
    "3. Best no. of split: 6, later on while running for the last time because of the time I have changed the configuration in GridSearchCV to make it a little faster.\n",
    "\n",
    "To evaluate the classifier diversity, I have used two recommended methods where first is Person Correlation cofficient and another is Kihavi-Wolpert variance. It can be clearly seen in the output of SuperLearner performance report in Task 9 section above that as per Pearson Correlation, all the base classifiers are highly correlated to each other and it can also be proved  using Kihavi-Wolpert(kw) variance score, it gives very low score on the predicted data with only 6% where more the kw score better the diversity will be in between the classifiers [1][2].\n",
    "\n",
    "Possible enhancement in this experiement:\n",
    "1. Try out various classifier and calculate Kihavi-Wolpert(kw) score to find diverse set of classifier\n",
    "2. Use these as base classifier in SuperLearn to train and predict."
   ]
  },
  {
   "cell_type": "markdown",
   "metadata": {},
   "source": [
    "### References"
   ]
  },
  {
   "cell_type": "markdown",
   "metadata": {},
   "source": [
    "[1] Masisi, Lesedi & Nelwamondo, Fulufhelo & Marwala, Tshilidzi. (2008). The Effect of Structural Diversity of an Ensemble of   Classifiers on Classification Accuracy. CoRR. abs/0804.4741. <br>\n",
    "[2] Kuncheva, L.I. & Whitaker, C.J. Machine Learning (2003) 51: 181. https://doi.org/10.1023/A:1022859003006\n"
   ]
  }
 ],
 "metadata": {
  "kernelspec": {
   "display_name": "Python 3",
   "language": "python",
   "name": "python3"
  },
  "language_info": {
   "codemirror_mode": {
    "name": "ipython",
    "version": 3
   },
   "file_extension": ".py",
   "mimetype": "text/x-python",
   "name": "python",
   "nbconvert_exporter": "python",
   "pygments_lexer": "ipython3",
   "version": "3.6.3"
  }
 },
 "nbformat": 4,
 "nbformat_minor": 2
}
